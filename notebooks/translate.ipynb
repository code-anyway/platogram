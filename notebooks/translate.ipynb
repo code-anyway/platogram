{
 "cells": [
  {
   "cell_type": "code",
   "execution_count": null,
   "metadata": {},
   "outputs": [],
   "source": [
    "import platogram as plato\n",
    "\n",
    "model = plato.llm.get_model(\"anthropic/claude-3-5-sonnet\")\n",
    "system = \"\"\"You are a very skillful translator. Read the input <text> in English, pay attention to special characters and formatting. Generate the exact equivalent in Spanish with the same special characters and formatting. Output only the translation including special characters and formatting.\"\"\"\n",
    "\n",
    "def translate(text: str) -> str:\n",
    "    response = str(model.prompt_model(messages=[plato.llm.User(content=text), plato.llm.Assistant(content=\"<translation>\")], system=system))\n",
    "    translation = response[:-len(\"</translation>\")].strip()\n",
    "    return translation"
   ]
  },
  {
   "cell_type": "code",
   "execution_count": null,
   "metadata": {},
   "outputs": [],
   "source": [
    "print(translate(\"\"\"<role>\n",
    "You are a very capable editor, speaker, educator, and author with a knack for coming up with meta information about the content.\n",
    "</role>\n",
    "<task>\n",
    "You will be given a <text> that contains paragraphs enclosed in <p></p> tags and you will need to come up with meta information about the content.\n",
    "</task>\"\"\").strip())"
   ]
  },
  {
   "cell_type": "code",
   "execution_count": null,
   "metadata": {},
   "outputs": [],
   "source": [
    "import asyncio\n",
    "\n",
    "\n",
    "async def translate_example(example: dict) -> dict:\n",
    "    _input = translate(example[\"input\"])\n",
    "    _output = await asyncio.gather(*[asyncio.to_thread(translate, output) for output in example[\"output\"]])\n",
    "    return {\"input\": _input, \"output\": _output}\n",
    "\n",
    "examples_translated = await asyncio.gather(*[translate_example(example) for example in plato.ops.rewrite_examples[\"en\"][:1]])\n",
    "\n",
    "examples_translated"
   ]
  }
 ],
 "metadata": {
  "kernelspec": {
   "display_name": "platogram--nsKOxHZ-py3.11",
   "language": "python",
   "name": "python3"
  },
  "language_info": {
   "codemirror_mode": {
    "name": "ipython",
    "version": 3
   },
   "file_extension": ".py",
   "mimetype": "text/x-python",
   "name": "python",
   "nbconvert_exporter": "python",
   "pygments_lexer": "ipython3",
   "version": "3.11.6"
  }
 },
 "nbformat": 4,
 "nbformat_minor": 2
}
